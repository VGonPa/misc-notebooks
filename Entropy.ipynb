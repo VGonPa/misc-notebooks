{
 "metadata": {
  "name": "Entropy"
 }, 
 "nbformat": 2, 
 "worksheets": [
  {
   "cells": [
    {
     "cell_type": "code", 
     "collapsed": false, 
     "input": [], 
     "language": "python", 
     "outputs": [], 
     "prompt_number": 5
    }, 
    {
     "cell_type": "code", 
     "collapsed": true, 
     "input": [
      "# Natural Language Toolkit: code_entropy", 
      "import math", 
      "import nltk", 
      "def entropy(labels):", 
      "    freqdist = nltk.FreqDist(labels)", 
      "    probs = [freqdist.freq(l) for l in nltk.FreqDist(labels)]", 
      "    return -sum([p * math.log(p,2) for p in probs])"
     ], 
     "language": "python", 
     "outputs": [], 
     "prompt_number": 6
    }, 
    {
     "cell_type": "code", 
     "collapsed": false, 
     "input": [
      "print entropy(['male', 'male', 'male', 'male']) ", 
      "print entropy(['male', 'female', 'male', 'male'])", 
      "print entropy(['female', 'male', 'female', 'male'])", 
      "print entropy(['female', 'female', 'male', 'female'])", 
      "print entropy(['female', 'female', 'female', 'female']) "
     ], 
     "language": "python", 
     "outputs": [
      {
       "output_type": "stream", 
       "stream": "stdout", 
       "text": [
        "-0", 
        "0.811278124459", 
        "1.0", 
        "0.811278124459", 
        "-0"
       ]
      }
     ], 
     "prompt_number": 7
    }, 
    {
     "cell_type": "code", 
     "collapsed": false, 
     "input": [
      "print entropy(['female', 'female', 'female', 'paco', 'paco', 'juan']) "
     ], 
     "language": "python", 
     "outputs": [
      {
       "output_type": "stream", 
       "stream": "stdout", 
       "text": [
        "1.45914791703"
       ]
      }
     ], 
     "prompt_number": 32
    }, 
    {
     "cell_type": "code", 
     "collapsed": false, 
     "input": [
      "import numpy as np", 
      "def fast_entropy(labels):", 
      "    freqdist = nltk.FreqDist(labels)", 
      "    print freqdist", 
      "    probs = [freqdist.freq(l) for l in nltk.FreqDist(labels)]", 
      "    print probs", 
      "    probs = np.array(probs)", 
      "    return -sum(probs.T * np.log2(probs))"
     ], 
     "language": "python", 
     "outputs": [], 
     "prompt_number": 46
    }, 
    {
     "cell_type": "code", 
     "collapsed": false, 
     "input": [
      "print fast_entropy(['female', 'female', 'male', 'female'])", 
      "print fast_entropy(['female', 'female', 'female', 'paco', 'paco', 'juan']) "
     ], 
     "language": "python", 
     "outputs": [
      {
       "output_type": "stream", 
       "stream": "stdout", 
       "text": [
        "<FreqDist: 'female': 3, 'male': 1>", 
        "[0.75, 0.25]", 
        "0.811278124459", 
        "<FreqDist: 'female': 3, 'paco': 2, 'juan': 1>", 
        "[0.5, 0.3333333333333333, 0.16666666666666666]", 
        "1.45914791703"
       ]
      }
     ], 
     "prompt_number": 47
    }, 
    {
     "cell_type": "code", 
     "collapsed": true, 
     "input": [], 
     "language": "python", 
     "outputs": [], 
     "prompt_number": 47
    }, 
    {
     "cell_type": "code", 
     "collapsed": true, 
     "input": [], 
     "language": "python", 
     "outputs": []
    }
   ]
  }
 ]
}