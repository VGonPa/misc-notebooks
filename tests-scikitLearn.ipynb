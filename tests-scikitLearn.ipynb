{
 "metadata": {
  "name": "Learning_ScikitsLearn"
 }, 
 "nbformat": 2, 
 "worksheets": [
  {
   "cells": [
    {
     "cell_type": "code", 
     "collapsed": false, 
     "input": [
      "import numpy as np", 
      "import scipy as sp", 
      "", 
      "", 
      "from sklearn import datasets", 
      "", 
      "iris = datasets.load_iris()", 
      "data = iris.data", 
      "data.shape"
     ], 
     "language": "python", 
     "outputs": [
      {
       "output_type": "pyout", 
       "prompt_number": 1, 
       "text": [
        "(150, 4)"
       ]
      }
     ], 
     "prompt_number": 1
    }, 
    {
     "cell_type": "code", 
     "collapsed": false, 
     "input": [
      "iris.feature_names", 
      "iris.items()"
     ], 
     "language": "python", 
     "outputs": [
      {
       "output_type": "pyout", 
       "prompt_number": 4, 
       "text": [
        "[('target_names',", 
        "  array(['setosa', 'versicolor', 'virginica'], ", 
        "      dtype='|S10')),", 
        " ('data',", 
        "  array([[ 5.1,  3.5,  1.4,  0.2],", 
        "       [ 4.9,  3. ,  1.4,  0.2],", 
        "       [ 4.7,  3.2,  1.3,  0.2],", 
        "       [ 4.6,  3.1,  1.5,  0.2],", 
        "       [ 5. ,  3.6,  1.4,  0.2],", 
        "       [ 5.4,  3.9,  1.7,  0.4],", 
        "       [ 4.6,  3.4,  1.4,  0.3],", 
        "       [ 5. ,  3.4,  1.5,  0.2],", 
        "       [ 4.4,  2.9,  1.4,  0.2],", 
        "       [ 4.9,  3.1,  1.5,  0.1],", 
        "       [ 5.4,  3.7,  1.5,  0.2],", 
        "       [ 4.8,  3.4,  1.6,  0.2],", 
        "       [ 4.8,  3. ,  1.4,  0.1],", 
        "       [ 4.3,  3. ,  1.1,  0.1],", 
        "       [ 5.8,  4. ,  1.2,  0.2],", 
        "       [ 5.7,  4.4,  1.5,  0.4],", 
        "       [ 5.4,  3.9,  1.3,  0.4],", 
        "       [ 5.1,  3.5,  1.4,  0.3],", 
        "       [ 5.7,  3.8,  1.7,  0.3],", 
        "       [ 5.1,  3.8,  1.5,  0.3],", 
        "       [ 5.4,  3.4,  1.7,  0.2],", 
        "       [ 5.1,  3.7,  1.5,  0.4],", 
        "       [ 4.6,  3.6,  1. ,  0.2],", 
        "       [ 5.1,  3.3,  1.7,  0.5],", 
        "       [ 4.8,  3.4,  1.9,  0.2],", 
        "       [ 5. ,  3. ,  1.6,  0.2],", 
        "       [ 5. ,  3.4,  1.6,  0.4],", 
        "       [ 5.2,  3.5,  1.5,  0.2],", 
        "       [ 5.2,  3.4,  1.4,  0.2],", 
        "       [ 4.7,  3.2,  1.6,  0.2],", 
        "       [ 4.8,  3.1,  1.6,  0.2],", 
        "       [ 5.4,  3.4,  1.5,  0.4],", 
        "       [ 5.2,  4.1,  1.5,  0.1],", 
        "       [ 5.5,  4.2,  1.4,  0.2],", 
        "       [ 4.9,  3.1,  1.5,  0.1],", 
        "       [ 5. ,  3.2,  1.2,  0.2],", 
        "       [ 5.5,  3.5,  1.3,  0.2],", 
        "       [ 4.9,  3.1,  1.5,  0.1],", 
        "       [ 4.4,  3. ,  1.3,  0.2],", 
        "       [ 5.1,  3.4,  1.5,  0.2],", 
        "       [ 5. ,  3.5,  1.3,  0.3],", 
        "       [ 4.5,  2.3,  1.3,  0.3],", 
        "       [ 4.4,  3.2,  1.3,  0.2],", 
        "       [ 5. ,  3.5,  1.6,  0.6],", 
        "       [ 5.1,  3.8,  1.9,  0.4],", 
        "       [ 4.8,  3. ,  1.4,  0.3],", 
        "       [ 5.1,  3.8,  1.6,  0.2],", 
        "       [ 4.6,  3.2,  1.4,  0.2],", 
        "       [ 5.3,  3.7,  1.5,  0.2],", 
        "       [ 5. ,  3.3,  1.4,  0.2],", 
        "       [ 7. ,  3.2,  4.7,  1.4],", 
        "       [ 6.4,  3.2,  4.5,  1.5],", 
        "       [ 6.9,  3.1,  4.9,  1.5],", 
        "       [ 5.5,  2.3,  4. ,  1.3],", 
        "       [ 6.5,  2.8,  4.6,  1.5],", 
        "       [ 5.7,  2.8,  4.5,  1.3],", 
        "       [ 6.3,  3.3,  4.7,  1.6],", 
        "       [ 4.9,  2.4,  3.3,  1. ],", 
        "       [ 6.6,  2.9,  4.6,  1.3],", 
        "       [ 5.2,  2.7,  3.9,  1.4],", 
        "       [ 5. ,  2. ,  3.5,  1. ],", 
        "       [ 5.9,  3. ,  4.2,  1.5],", 
        "       [ 6. ,  2.2,  4. ,  1. ],", 
        "       [ 6.1,  2.9,  4.7,  1.4],", 
        "       [ 5.6,  2.9,  3.6,  1.3],", 
        "       [ 6.7,  3.1,  4.4,  1.4],", 
        "       [ 5.6,  3. ,  4.5,  1.5],", 
        "       [ 5.8,  2.7,  4.1,  1. ],", 
        "       [ 6.2,  2.2,  4.5,  1.5],", 
        "       [ 5.6,  2.5,  3.9,  1.1],", 
        "       [ 5.9,  3.2,  4.8,  1.8],", 
        "       [ 6.1,  2.8,  4. ,  1.3],", 
        "       [ 6.3,  2.5,  4.9,  1.5],", 
        "       [ 6.1,  2.8,  4.7,  1.2],", 
        "       [ 6.4,  2.9,  4.3,  1.3],", 
        "       [ 6.6,  3. ,  4.4,  1.4],", 
        "       [ 6.8,  2.8,  4.8,  1.4],", 
        "       [ 6.7,  3. ,  5. ,  1.7],", 
        "       [ 6. ,  2.9,  4.5,  1.5],", 
        "       [ 5.7,  2.6,  3.5,  1. ],", 
        "       [ 5.5,  2.4,  3.8,  1.1],", 
        "       [ 5.5,  2.4,  3.7,  1. ],", 
        "       [ 5.8,  2.7,  3.9,  1.2],", 
        "       [ 6. ,  2.7,  5.1,  1.6],", 
        "       [ 5.4,  3. ,  4.5,  1.5],", 
        "       [ 6. ,  3.4,  4.5,  1.6],", 
        "       [ 6.7,  3.1,  4.7,  1.5],", 
        "       [ 6.3,  2.3,  4.4,  1.3],", 
        "       [ 5.6,  3. ,  4.1,  1.3],", 
        "       [ 5.5,  2.5,  4. ,  1.3],", 
        "       [ 5.5,  2.6,  4.4,  1.2],", 
        "       [ 6.1,  3. ,  4.6,  1.4],", 
        "       [ 5.8,  2.6,  4. ,  1.2],", 
        "       [ 5. ,  2.3,  3.3,  1. ],", 
        "       [ 5.6,  2.7,  4.2,  1.3],", 
        "       [ 5.7,  3. ,  4.2,  1.2],", 
        "       [ 5.7,  2.9,  4.2,  1.3],", 
        "       [ 6.2,  2.9,  4.3,  1.3],", 
        "       [ 5.1,  2.5,  3. ,  1.1],", 
        "       [ 5.7,  2.8,  4.1,  1.3],", 
        "       [ 6.3,  3.3,  6. ,  2.5],", 
        "       [ 5.8,  2.7,  5.1,  1.9],", 
        "       [ 7.1,  3. ,  5.9,  2.1],", 
        "       [ 6.3,  2.9,  5.6,  1.8],", 
        "       [ 6.5,  3. ,  5.8,  2.2],", 
        "       [ 7.6,  3. ,  6.6,  2.1],", 
        "       [ 4.9,  2.5,  4.5,  1.7],", 
        "       [ 7.3,  2.9,  6.3,  1.8],", 
        "       [ 6.7,  2.5,  5.8,  1.8],", 
        "       [ 7.2,  3.6,  6.1,  2.5],", 
        "       [ 6.5,  3.2,  5.1,  2. ],", 
        "       [ 6.4,  2.7,  5.3,  1.9],", 
        "       [ 6.8,  3. ,  5.5,  2.1],", 
        "       [ 5.7,  2.5,  5. ,  2. ],", 
        "       [ 5.8,  2.8,  5.1,  2.4],", 
        "       [ 6.4,  3.2,  5.3,  2.3],", 
        "       [ 6.5,  3. ,  5.5,  1.8],", 
        "       [ 7.7,  3.8,  6.7,  2.2],", 
        "       [ 7.7,  2.6,  6.9,  2.3],", 
        "       [ 6. ,  2.2,  5. ,  1.5],", 
        "       [ 6.9,  3.2,  5.7,  2.3],", 
        "       [ 5.6,  2.8,  4.9,  2. ],", 
        "       [ 7.7,  2.8,  6.7,  2. ],", 
        "       [ 6.3,  2.7,  4.9,  1.8],", 
        "       [ 6.7,  3.3,  5.7,  2.1],", 
        "       [ 7.2,  3.2,  6. ,  1.8],", 
        "       [ 6.2,  2.8,  4.8,  1.8],", 
        "       [ 6.1,  3. ,  4.9,  1.8],", 
        "       [ 6.4,  2.8,  5.6,  2.1],", 
        "       [ 7.2,  3. ,  5.8,  1.6],", 
        "       [ 7.4,  2.8,  6.1,  1.9],", 
        "       [ 7.9,  3.8,  6.4,  2. ],", 
        "       [ 6.4,  2.8,  5.6,  2.2],", 
        "       [ 6.3,  2.8,  5.1,  1.5],", 
        "       [ 6.1,  2.6,  5.6,  1.4],", 
        "       [ 7.7,  3. ,  6.1,  2.3],", 
        "       [ 6.3,  3.4,  5.6,  2.4],", 
        "       [ 6.4,  3.1,  5.5,  1.8],", 
        "       [ 6. ,  3. ,  4.8,  1.8],", 
        "       [ 6.9,  3.1,  5.4,  2.1],", 
        "       [ 6.7,  3.1,  5.6,  2.4],", 
        "       [ 6.9,  3.1,  5.1,  2.3],", 
        "       [ 5.8,  2.7,  5.1,  1.9],", 
        "       [ 6.8,  3.2,  5.9,  2.3],", 
        "       [ 6.7,  3.3,  5.7,  2.5],", 
        "       [ 6.7,  3. ,  5.2,  2.3],", 
        "       [ 6.3,  2.5,  5. ,  1.9],", 
        "       [ 6.5,  3. ,  5.2,  2. ],", 
        "       [ 6.2,  3.4,  5.4,  2.3],", 
        "       [ 5.9,  3. ,  5.1,  1.8]])),", 
        " ('target',", 
        "  array([0, 0, 0, 0, 0, 0, 0, 0, 0, 0, 0, 0, 0, 0, 0, 0, 0, 0, 0, 0, 0, 0, 0,", 
        "       0, 0, 0, 0, 0, 0, 0, 0, 0, 0, 0, 0, 0, 0, 0, 0, 0, 0, 0, 0, 0, 0, 0,", 
        "       0, 0, 0, 0, 1, 1, 1, 1, 1, 1, 1, 1, 1, 1, 1, 1, 1, 1, 1, 1, 1, 1, 1,", 
        "       1, 1, 1, 1, 1, 1, 1, 1, 1, 1, 1, 1, 1, 1, 1, 1, 1, 1, 1, 1, 1, 1, 1,", 
        "       1, 1, 1, 1, 1, 1, 1, 1, 2, 2, 2, 2, 2, 2, 2, 2, 2, 2, 2, 2, 2, 2, 2,", 
        "       2, 2, 2, 2, 2, 2, 2, 2, 2, 2, 2, 2, 2, 2, 2, 2, 2, 2, 2, 2, 2, 2, 2,", 
        "       2, 2, 2, 2, 2, 2, 2, 2, 2, 2, 2, 2])),", 
        " ('DESCR',", 
        "  'Iris Plants Database\\n\\nNotes\\n-----\\nData Set Characteristics:\\n    :Number of Instances: 150 (50 in each of three classes)\\n    :Number of Attributes: 4 numeric, predictive attributes and the class\\n    :Attribute Information:\\n        - sepal length in cm\\n        - sepal width in cm\\n        - petal length in cm\\n        - petal width in cm\\n        - class:\\n                - Iris-Setosa\\n                - Iris-Versicolour\\n                - Iris-Virginica\\n    :Summary Statistics:\\n    ============== ==== ==== ======= ===== ====================\\n                    Min  Max   Mean    SD   Class Correlation\\n    ============== ==== ==== ======= ===== ====================\\n    sepal length:   4.3  7.9   5.84   0.83    0.7826\\n    sepal width:    2.0  4.4   3.05   0.43   -0.4194\\n    petal length:   1.0  6.9   3.76   1.76    0.9490  (high!)\\n    petal width:    0.1  2.5   1.20  0.76     0.9565  (high!)\\n    ============== ==== ==== ======= ===== ====================\\n    :Missing Attribute Values: None\\n    :Class Distribution: 33.3% for each of 3 classes.\\n    :Creator: R.A. Fisher\\n    :Donor: Michael Marshall (MARSHALL%PLU@io.arc.nasa.gov)\\n    :Date: July, 1988\\n\\nThis is a copy of UCI ML iris datasets.\\nhttp://archive.ics.uci.edu/ml/datasets/Iris\\n\\nThe famous Iris database, first used by Sir R.A Fisher\\n\\nThis is perhaps the best known database to be found in the\\npattern recognition literature.  Fisher\\'s paper is a classic in the field and\\nis referenced frequently to this day.  (See Duda & Hart, for example.)  The\\ndata set contains 3 classes of 50 instances each, where each class refers to a\\ntype of iris plant.  One class is linearly separable from the other 2; the\\nlatter are NOT linearly separable from each other.\\n\\nReferences\\n----------\\n   - Fisher,R.A. \"The use of multiple measurements in taxonomic problems\"\\n     Annual Eugenics, 7, Part II, 179-188 (1936); also in \"Contributions to\\n     Mathematical Statistics\" (John Wiley, NY, 1950).\\n   - Duda,R.O., & Hart,P.E. (1973) Pattern Classification and Scene Analysis.\\n     (Q327.D83) John Wiley & Sons.  ISBN 0-471-22361-1.  See page 218.\\n   - Dasarathy, B.V. (1980) \"Nosing Around the Neighborhood: A New System\\n     Structure and Classification Rule for Recognition in Partially Exposed\\n     Environments\".  IEEE Transactions on Pattern Analysis and Machine\\n     Intelligence, Vol. PAMI-2, No. 1, 67-71.\\n   - Gates, G.W. (1972) \"The Reduced Nearest Neighbor Rule\".  IEEE Transactions\\n     on Information Theory, May 1972, 431-433.\\n   - See also: 1988 MLC Proceedings, 54-64.  Cheeseman et al\"s AUTOCLASS II\\n     conceptual clustering system finds 3 classes in the data.\\n   - Many, many more ...\\n'),", 
        " ('feature_names',", 
        "  ['sepal length (cm)',", 
        "   'sepal width (cm)',", 
        "   'petal length (cm)',", 
        "   'petal width (cm)'])]"
       ]
      }
     ], 
     "prompt_number": 4
    }, 
    {
     "cell_type": "code", 
     "collapsed": false, 
     "input": [
      "digits = datasets.load_digits()", 
      "digits.images.shape", 
      "(1797, 8, 8)", 
      "import pylab as pl ", 
      "pl.imshow(digits.images[-1], cmap=pl.cm.gray_r) "
     ], 
     "language": "python", 
     "outputs": [
      {
       "output_type": "pyout", 
       "prompt_number": 6, 
       "text": [
        "<matplotlib.image.AxesImage at 0x9a8992c>"
       ]
      }, 
      {
       "output_type": "display_data", 
       "png": "[encoded data removed]"
      }
     ], 
     "prompt_number": 6
    }, 
    {
     "cell_type": "code", 
     "collapsed": false, 
     "input": [
      "pl.imshow(digits.images[10],cmap=pl.cm.gray_r)", 
      "digits.images[10]"
     ], 
     "language": "python", 
     "outputs": [
      {
       "output_type": "pyout", 
       "prompt_number": 10, 
       "text": [
        "array([[  0.,   0.,   1.,   9.,  15.,  11.,   0.,   0.],", 
        "       [  0.,   0.,  11.,  16.,   8.,  14.,   6.,   0.],", 
        "       [  0.,   2.,  16.,  10.,   0.,   9.,   9.,   0.],", 
        "       [  0.,   1.,  16.,   4.,   0.,   8.,   8.,   0.],", 
        "       [  0.,   4.,  16.,   4.,   0.,   8.,   8.,   0.],", 
        "       [  0.,   1.,  16.,   5.,   1.,  11.,   3.,   0.],", 
        "       [  0.,   0.,  12.,  12.,  10.,  10.,   0.,   0.],", 
        "       [  0.,   0.,   1.,  10.,  13.,   3.,   0.,   0.]])"
       ]
      }, 
      {
       "output_type": "display_data", 
       "png": "[encoded data removed]"
      }
     ], 
     "prompt_number": 10
    }, 
    {
     "cell_type": "code", 
     "collapsed": false, 
     "input": [
      "data = digits.images.reshape((digits.images.shape[0], -1))"
     ], 
     "language": "python", 
     "outputs": [], 
     "prompt_number": 12
    }, 
    {
     "cell_type": "code", 
     "collapsed": false, 
     "input": [
      "from sklearn import svm", 
      "clf = svm.LinearSVC()", 
      "clf.fit(iris.data, iris.target) # learn from the data "
     ], 
     "language": "python", 
     "outputs": [
      {
       "output_type": "pyout", 
       "prompt_number": 17, 
       "text": [
        "LinearSVC(C=1.0, dual=True, fit_intercept=True, intercept_scaling=1,", 
        "     loss='l2', multi_class=False, penalty='l2', scale_C=False, tol=0.0001)"
       ]
      }
     ], 
     "prompt_number": 17
    }, 
    {
     "cell_type": "code", 
     "collapsed": false, 
     "input": [
      "pred =clf.predict([[ 5.0,  3.6,  1.3,  0.25]])", 
      "print pred"
     ], 
     "language": "python", 
     "outputs": [
      {
       "output_type": "stream", 
       "stream": "stdout", 
       "text": [
        "[0]"
       ]
      }
     ], 
     "prompt_number": 20
    }, 
    {
     "cell_type": "code", 
     "collapsed": false, 
     "input": [
      "clf.coef_", 
      "clf.label_"
     ], 
     "language": "python", 
     "outputs": [
      {
       "output_type": "pyout", 
       "prompt_number": 23, 
       "text": [
        "array([0, 1, 2])"
       ]
      }
     ], 
     "prompt_number": 23
    }, 
    {
     "cell_type": "code", 
     "collapsed": false, 
     "input": [
      "clf.decision_function()"
     ], 
     "language": "python", 
     "outputs": [
      {
       "ename": "TypeError", 
       "evalue": "decision_function() takes exactly 2 arguments (1 given)", 
       "output_type": "pyerr", 
       "traceback": [
        "\u001b[0;31m---------------------------------------------------------------------------\u001b[0m\n\u001b[0;31mTypeError\u001b[0m                                 Traceback (most recent call last)", 
        "\u001b[0;32m/home/vgonpa/Develop/<ipython-input-25-0a7e401e8989>\u001b[0m in \u001b[0;36m<module>\u001b[0;34m()\u001b[0m\n\u001b[0;32m----> 1\u001b[0;31m \u001b[0mclf\u001b[0m\u001b[0;34m.\u001b[0m\u001b[0mdecision_function\u001b[0m\u001b[0;34m(\u001b[0m\u001b[0;34m)\u001b[0m\u001b[0;34m\u001b[0m\u001b[0m\n\u001b[0m", 
        "\u001b[0;31mTypeError\u001b[0m: decision_function() takes exactly 2 arguments (1 given)"
       ]
      }
     ], 
     "prompt_number": 26
    }, 
    {
     "cell_type": "code", 
     "collapsed": false, 
     "input": [
      "clf.?"
     ], 
     "language": "python", 
     "outputs": [
      {
       "output_type": "stream", 
       "stream": "stdout", 
       "text": [
        "Object `clf.` not found."
       ]
      }
     ], 
     "prompt_number": 27
    }, 
    {
     "cell_type": "code", 
     "collapsed": false, 
     "input": [
      "print clf.__doc__"
     ], 
     "language": "python", 
     "outputs": [
      {
       "output_type": "stream", 
       "stream": "stdout", 
       "text": [
        "Linear Support Vector Classification.", 
        "", 
        "    Similar to SVC with parameter kernel='linear', but uses internally", 
        "    liblinear rather than libsvm, so it has more flexibility in the", 
        "    choice of penalties and loss functions and should be faster for", 
        "    huge datasets.", 
        "", 
        "    Parameters", 
        "    ----------", 
        "    C : float, optional (default=1.0)", 
        "        Penalty parameter C of the error term.", 
        "", 
        "    loss : string, 'l1' or 'l2' (default='l2')", 
        "        Specifies the loss function. 'l1' is the hinge loss (standard SVM)", 
        "        while 'l2' is the squared hinge loss.", 
        "", 
        "    penalty : string, 'l1' or 'l2' (default='l2')", 
        "        Specifies the norm used in the penalization. The 'l2'", 
        "        penalty is the standard used in SVC. The 'l1' leads to `coef_`", 
        "        vectors that are sparse.", 
        "", 
        "    dual : bool, (default=True)", 
        "        Select the algorithm to either solve the dual or primal", 
        "        optimization problem. Prefer dual=False when n_samples > n_features.", 
        "", 
        "    tol: float, optional (default=1e-4)", 
        "        Tolerance for stopping criteria", 
        "", 
        "    multi_class: boolean, optional (default=False)", 
        "        Perform multi-class SVM as per Cramer and Singer. If active,", 
        "        the options loss, penalty and dual will be ignored.", 
        "", 
        "    fit_intercept : boolean, optional (default=True)", 
        "        Whether to calculate the intercept for this model. If set", 
        "        to false, no intercept will be used in calculations", 
        "        (e.g. data is expected to be already centered).", 
        "", 
        "    intercept_scaling : float, optional (default=1)", 
        "        when self.fit_intercept is True, instance vector x becomes", 
        "        [x, self.intercept_scaling],", 
        "        i.e. a \"synthetic\" feature with constant value equals to", 
        "        intercept_scaling is appended to the instance vector.", 
        "        The intercept becomes intercept_scaling * synthetic feature weight", 
        "        Note! the synthetic feature weight is subject to l1/l2 regularization", 
        "        as all other features.", 
        "        To lessen the effect of regularization on synthetic feature weight", 
        "        (and therefore on the intercept) intercept_scaling has to be increased", 
        "", 
        "    scale_C : bool", 
        "        Scale C with number of samples. It makes the setting of C independent", 
        "        of the number of samples.", 
        "", 
        "    Attributes", 
        "    ----------", 
        "    `coef_` : array, shape = [n_features] if n_classes == 2             else [n_classes, n_features]", 
        "        Weights asigned to the features (coefficients in the primal", 
        "        problem). This is only available in the case of linear kernel.", 
        "", 
        "        `coef_` is readonly property derived from `raw_coef_` that         follows the internal memory layout of liblinear.", 
        "", 
        "    `intercept_` : array, shape = [1] if n_classes == 2 else [n_classes]", 
        "        Constants in decision function.", 
        "", 
        "    Notes", 
        "    -----", 
        "    The underlying C implementation uses a random number generator to", 
        "    select features when fitting the model. It is thus not uncommon,", 
        "    to have slightly different results for the same input data. If", 
        "    that happens, try with a smaller tol parameter.", 
        "", 
        "    **References:**", 
        "    `LIBLINEAR: A Library for Large Linear Classification", 
        "    <http://www.csie.ntu.edu.tw/~cjlin/liblinear/>`__", 
        "", 
        "    See also", 
        "    --------", 
        "    SVC", 
        "", 
        "", 
        "    "
       ]
      }
     ], 
     "prompt_number": 29
    }, 
    {
     "cell_type": "code", 
     "collapsed": true, 
     "input": [
      "clf.decision_function??"
     ], 
     "language": "python", 
     "outputs": [], 
     "prompt_number": 32
    }, 
    {
     "cell_type": "code", 
     "collapsed": true, 
     "input": [], 
     "language": "python", 
     "outputs": []
    }
   ]
  }
 ]
}